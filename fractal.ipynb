{
  "cells": [
    {
      "cell_type": "markdown",
      "source": [
        "https://en.wikipedia.org/wiki/Fibonacci_word_fractal"
      ],
      "metadata": {
        "id": "j7XhXlJy2R7k"
      },
      "id": "j7XhXlJy2R7k"
    },
    {
      "cell_type": "markdown",
      "source": [
        "Prompt: generate Fibonacci word fractal code (reference: https://en.wikipedia.org/wiki/Fibonacci_word_fractal) and plots, also generate code to look at the fractal dimension and show this as part of the output"
      ],
      "metadata": {
        "id": "JSTKaKLG4WWO"
      },
      "id": "JSTKaKLG4WWO"
    },
    {
      "cell_type": "markdown",
      "source": [],
      "metadata": {
        "id": "uBng0cf9_T8_"
      },
      "id": "uBng0cf9_T8_"
    },
    {
      "cell_type": "markdown",
      "source": [
        "### ------------------ Parameters ------------------"
      ],
      "metadata": {
        "id": "qfTByvQY_hrz"
      },
      "id": "qfTByvQY_hrz"
    },
    {
      "cell_type": "code",
      "source": [
        "import numpy as np\n",
        "import matplotlib.pyplot as plt\n",
        "# ------------------ Parameters ------------------\n",
        "ORDER = 20           # Fibonacci word order (e.g., 18–22 are reasonable; too big -> heavy)\n",
        "STEP  = 1.0          # Step length (kept at 1.0; scaling doesn't change dimension)\n",
        "ANGLE_DEG = 90.0     # Turning angle (Fibonacci word fractal uses 90°)"
      ],
      "metadata": {
        "id": "-lWjrr75_TR5"
      },
      "id": "-lWjrr75_TR5",
      "execution_count": null,
      "outputs": []
    },
    {
      "cell_type": "markdown",
      "source": [
        "### ------------------ Fibonacci word ------------------"
      ],
      "metadata": {
        "id": "01Fu6hRd_rXP"
      },
      "id": "01Fu6hRd_rXP"
    },
    {
      "cell_type": "code",
      "execution_count": 16,
      "id": "5aa1f899",
      "metadata": {
        "colab": {
          "base_uri": "https://localhost:8080/"
        },
        "id": "5aa1f899",
        "outputId": "e41137ff-657e-4495-c1ff-0b278e24074f"
      },
      "outputs": [
        {
          "output_type": "stream",
          "name": "stdout",
          "text": [
            "Fibonacci word of order 20: 010010100100101001010010010100100101001010010010100101001001010010010100101001001010010010100101001001010010100100101001001010010100100101001010\n"
          ]
        }
      ],
      "source": [
        "# ------------------ Fibonacci word ------------------\n",
        "def fibonacci_word(n: int) -> str:\n",
        "    \"\"\"\n",
        "    Returns the nth Fibonacci word using concatenation:\n",
        "      F1 = \"1\", F2 = \"0\", Fn = F(n-1) + F(n-2).\n",
        "    The infinite limit begins 0100101001001...\n",
        "    \"\"\"\n",
        "    if n == 0:\n",
        "        return \"0\"\n",
        "    if n == 1:\n",
        "        return \"01\"\n",
        "    a, b = \"0\", \"01\"\n",
        "    for _ in range(2, n+1):\n",
        "        a, b = b, b + a\n",
        "    return b\n",
        "\n",
        "\n",
        "f = fibonacci_word(10)\n",
        "print(f\"Fibonacci word of order {ORDER}: {f}\")"
      ]
    },
    {
      "cell_type": "markdown",
      "source": [
        "### ------------------ Build polyline by odd-even drawing rule ------------------"
      ],
      "metadata": {
        "id": "-nBE3qmF_ttn"
      },
      "id": "-nBE3qmF_ttn"
    },
    {
      "cell_type": "code",
      "source": [
        "# ------------------ Build polyline by odd-even drawing rule ------------------\n",
        "def fib_word_curve(word: str, step: float = 1.0, angle_deg: float = 90.0):\n",
        "    \"\"\"Apply Odd–Even Drawing Rule to generate curve points from Fibonacci word.\"\"\"\n",
        "    theta = 0.0   # heading (radians), initial facing east\n",
        "    x, y = 0.0, 0.0\n",
        "    pts = [(x, y)]\n",
        "    ang = np.deg2rad(angle_deg)\n",
        "\n",
        "    for k, ch in enumerate(word, start=1):\n",
        "        # Step forward\n",
        "        x += step * np.cos(theta)\n",
        "        y += step * np.sin(theta)\n",
        "        pts.append((x, y))\n",
        "\n",
        "        # Apply turning rule if digit is 0\n",
        "        if ch == \"0\":\n",
        "            if k % 2 == 0:   # even\n",
        "                theta += ang   # left\n",
        "            else:             # odd\n",
        "                theta -= ang   # right\n",
        "        # If ch == \"1\": no turn\n",
        "\n",
        "    return np.array(pts)\n",
        "\n",
        "# Example: draw curve for order 13\n",
        "n = 13\n",
        "word = fibonacci_word(n)\n",
        "pts = fib_word_curve(word)\n",
        "\n",
        "plt.figure(figsize=(6,6))\n",
        "plt.plot(pts[:,0], pts[:,1], linewidth=1)\n",
        "plt.axis(\"equal\"); plt.axis(\"off\")\n",
        "plt.title(f\"Fibonacci Word Fractal (order {n})\")\n",
        "plt.show()"
      ],
      "metadata": {
        "id": "iojjf2Km9wIo",
        "outputId": "964d0972-2b54-43a3-988e-a1fadb02dffa",
        "colab": {
          "base_uri": "https://localhost:8080/",
          "height": 521
        }
      },
      "id": "iojjf2Km9wIo",
      "execution_count": 29,
      "outputs": [
        {
          "output_type": "display_data",
          "data": {
            "text/plain": [
              "<Figure size 600x600 with 1 Axes>"
            ],
            "image/png": "[encoded data removed]"
          },
          "metadata": {}
        }
      ]
    },
    {
      "cell_type": "markdown",
      "source": [
        "### ------------------ Box-counting on sampled points ------------------"
      ],
      "metadata": {
        "id": "U7F-Tf_v_ylW"
      },
      "id": "U7F-Tf_v_ylW"
    },
    {
      "cell_type": "code",
      "source": [
        "# ------------------ Box-counting on sampled points ------------------\n",
        "import numpy as np\n",
        "\n",
        "def box_count_dimension(points: np.ndarray,\n",
        "                        scales: str = \"powers_of_two\",\n",
        "                        min_boxes: int = 6,\n",
        "                        drop_edges: int = 2):\n",
        "    \"\"\"\n",
        "    Estimate the box-counting (Minkowski–Bouligand) dimension of a 2D set.\n",
        "\n",
        "    Parameters\n",
        "    ----------\n",
        "    points : (N, 2) array-like\n",
        "        2D coordinates (e.g., vertices of the Fibonacci-word curve).\n",
        "        They can be real-valued; we normalize/quantize internally.\n",
        "    scales : {'powers_of_two', 'auto'}\n",
        "        - 'powers_of_two': use ε = 1, 2, 4, 8, ...\n",
        "        - 'auto': use ~log-spaced ε between pixel 1 and span.\n",
        "    min_boxes : int\n",
        "        Require at least this many distinct scales (after trimming) for regression.\n",
        "    drop_edges : int\n",
        "        Trim this many smallest and largest scales before fitting, to reduce\n",
        "        finite-size and saturation bias.\n",
        "\n",
        "    Returns\n",
        "    -------\n",
        "    result : dict with keys\n",
        "        'D'          : slope of log N(ε) vs log(1/ε) (the dimension estimate)\n",
        "        'eps'        : array of ε (box sizes, in pixel units)\n",
        "        'N_eps'      : occupied box counts at each ε\n",
        "        'xlog'       : log(1/ε)\n",
        "        'ylog'       : log N(ε)\n",
        "        'fit_slice'  : slice used for the linear fit\n",
        "        'intercept'  : intercept of the fitted line\n",
        "    \"\"\"\n",
        "    pts = np.asarray(points, dtype=float)\n",
        "    if pts.ndim != 2 or pts.shape[1] != 2:\n",
        "        raise ValueError(\"points must be an (N,2) array\")\n",
        "\n",
        "    # Translate so min corner is at (0,0), then quantize to integer pixel grid\n",
        "    x = pts[:, 0]; y = pts[:, 1]\n",
        "    X = np.rint(x - x.min()).astype(np.int64)\n",
        "    Y = np.rint(y - y.min()).astype(np.int64)\n",
        "\n",
        "    # Span (in pixels)\n",
        "    width  = int(X.max() - X.min() + 1)\n",
        "    height = int(Y.max() - Y.min() + 1)\n",
        "    L = max(width, height)\n",
        "    if L <= 1:\n",
        "        return {'D': 0.0, 'eps': np.array([1.0]), 'N_eps': np.array([1.0]),\n",
        "                'xlog': np.array([0.0]), 'ylog': np.array([0.0]),\n",
        "                'fit_slice': slice(0,1), 'intercept': 0.0}\n",
        "\n",
        "    # Choose box sizes ε\n",
        "    if scales == \"powers_of_two\":\n",
        "        max_pow = int(np.floor(np.log2(L)))\n",
        "        eps = 2 ** np.arange(0, max_pow + 1, dtype=int)\n",
        "    else:  # 'auto' ~log-spaced integer eps between 1 and L\n",
        "        k = max(8, int(np.ceil(np.log2(L)) + 1))  # ensure enough samples\n",
        "        eps = np.unique(np.clip(np.rint(np.geomspace(1, L, k)), 1, L).astype(int))\n",
        "\n",
        "    # Count occupied boxes for each ε\n",
        "    N_eps = []\n",
        "    for e in eps:\n",
        "        i = X // e\n",
        "        j = Y // e\n",
        "        # unique (i,j) pairs via hashing\n",
        "        key = i * (L + 1) + j\n",
        "        N_eps.append(np.unique(key).size)\n",
        "    N_eps = np.asarray(N_eps, dtype=float)\n",
        "\n",
        "    # Prepare regression: log N vs log(1/ε)\n",
        "    xlog = np.log(1.0 / eps.astype(float))\n",
        "    ylog = np.log(N_eps)\n",
        "\n",
        "    # Trim edges to mitigate bias (coarsest: saturation; finest: discretization)\n",
        "    if len(eps) > 2 * drop_edges:\n",
        "        sl = slice(drop_edges, len(eps) - drop_edges)\n",
        "    else:\n",
        "        sl = slice(0, len(eps))\n",
        "\n",
        "    if (sl.stop - sl.start) < min_boxes:\n",
        "        # fall back: no trimming\n",
        "        sl = slice(0, len(eps))\n",
        "\n",
        "    # Linear fit\n",
        "    slope, intercept = np.polyfit(xlog[sl], ylog[sl], 1)\n",
        "\n",
        "    return {\n",
        "        'D': float(slope),\n",
        "        'eps': eps.astype(float),\n",
        "        'N_eps': N_eps,\n",
        "        'xlog': xlog,\n",
        "        'ylog': ylog,\n",
        "        'fit_slice': sl,\n",
        "        'intercept': float(intercept),\n",
        "    }\n",
        "\n",
        "n = 7\n",
        "\n",
        "word = fibonacci_word(n)\n",
        "pts  = fib_word_curve(word, step=1.0, angle_deg=90.0)\n",
        "\n",
        "res = box_count_dimension(pts, scales=\"powers_of_two\", drop_edges=2)\n",
        "print(f\"Estimated box-counting dimension: {res['D']:.4f}\")\n",
        "\n",
        "# Optional: plot the log–log data + fit\n",
        "import matplotlib.pyplot as plt\n",
        "plt.figure(figsize=(6,4))\n",
        "plt.plot(res['xlog'], res['ylog'], 'o', label='data')\n",
        "sl = res['fit_slice']\n",
        "xfit = res['xlog'][sl]\n",
        "yfit = res['D'] * xfit + res['intercept']\n",
        "plt.plot(xfit, yfit, '-', label=f\"fit, D≈{res['D']:.4f}\")\n",
        "plt.xlabel(\"log(1/ε)\"); plt.ylabel(\"log N(ε)\"); plt.legend(); plt.tight_layout()\n",
        "plt.show()"
      ],
      "metadata": {
        "id": "GVz2srnV_NAZ"
      },
      "id": "GVz2srnV_NAZ",
      "execution_count": 30,
      "outputs": []
    },
    {
      "cell_type": "code",
      "source": [
        "\n",
        "# ------------------ Run everything ------------------\n",
        "word = fibonacci_word(ORDER)\n",
        "pts = fib_word_curve_points(word, step=STEP, angle_deg=ANGLE_DEG)\n",
        "\n",
        "# Plot the curve\n",
        "fig1 = plt.figure(figsize=(7, 7))\n",
        "plt.plot(pts[:,0], pts[:,1], linewidth=1.0)\n",
        "plt.axis('equal')\n",
        "plt.axis('off')\n",
        "plt.title(f\"Fibonacci Word Fractal (order {ORDER})\")\n",
        "fig1.tight_layout()\n",
        "curve_path = \"/mnt/data/fibonacci_word_fractal_order{}.png\".format(ORDER)\n",
        "fig1.savefig(curve_path, dpi=200, bbox_inches='tight')\n",
        "plt.show()\n",
        "\n",
        "# Estimate box-counting dimension\n",
        "eps, N_eps, dim_est, intercept, xlog, ylog, sl = box_count_dimension_from_points(pts, drop_edges=2)\n",
        "\n",
        "# Plot log–log + fitted line\n",
        "fig2 = plt.figure(figsize=(7, 5))\n",
        "plt.plot(np.log(1.0/eps), np.log(N_eps), marker='o', linestyle='')\n",
        "# Fitted line across regression range\n",
        "xfit = xlog[sl]\n",
        "yfit = dim_est * xfit + intercept\n",
        "plt.plot(xfit, yfit, linewidth=1.5)\n",
        "plt.xlabel(\"log(1/ε)\")\n",
        "plt.ylabel(\"log N(ε)\")\n",
        "plt.title(f\"Box-counting estimate: D ≈ {dim_est:.4f}\")\n",
        "fig2.tight_layout()\n",
        "boxcount_path = \"/mnt/data/fibonacci_word_boxcount_order{}.png\".format(ORDER)\n",
        "fig2.savefig(boxcount_path, dpi=200, bbox_inches='tight')\n",
        "plt.show()\n",
        "\n",
        "# Print results and reference value\n",
        "phi = (1 + 5 ** 0.5) / 2.0\n",
        "theoretical_D = 3.0 * np.log(phi) / np.log(1.0 + np.sqrt(2.0))\n",
        "frontier_D = np.log(3.0) / np.log(1.0 + np.sqrt(2.0))\n",
        "\n",
        "print(f\"Order: {ORDER}, #segments: {len(word)}\")\n",
        "print(f\"Estimated box-counting dimension (curve): D ≈ {dim_est:.4f}\")\n",
        "print(f\"Theoretical Hausdorff dimension (curve):  D = 3 log(phi) / log(1+sqrt(2)) ≈ {theoretical_D:.4f}\")\n",
        "print(f\"Theoretical dimension (frontier):         D_frontier = log(3)/log(1+sqrt(2)) ≈ {frontier_D:.4f}\")\n",
        "print()\n",
        "print(\"Saved figures:\")\n",
        "print(curve_path)\n",
        "print(boxcount_path)"
      ],
      "metadata": {
        "id": "tcE-qCN69fo9"
      },
      "id": "tcE-qCN69fo9",
      "execution_count": null,
      "outputs": []
    }
  ],
  "metadata": {
    "kernelspec": {
      "display_name": "comp3710",
      "language": "python",
      "name": "python3"
    },
    "language_info": {
      "codemirror_mode": {
        "name": "ipython",
        "version": 3
      },
      "file_extension": ".py",
      "mimetype": "text/x-python",
      "name": "python",
      "nbconvert_exporter": "python",
      "pygments_lexer": "ipython3",
      "version": "3.9.23"
    },
    "colab": {
      "provenance": []
    }
  },
  "nbformat": 4,
  "nbformat_minor": 5
}